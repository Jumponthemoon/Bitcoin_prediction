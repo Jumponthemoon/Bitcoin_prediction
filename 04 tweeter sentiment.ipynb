{
 "cells": [
  {
   "cell_type": "code",
   "execution_count": null,
   "metadata": {},
   "outputs": [],
   "source": [
    "# import tweepy library for twitter api access and textblob libary for sentiment analysis\n",
    "import csv\n",
    "import tweepy\n",
    "import numpy as np\n",
    "from textblob import TextBlob\n",
    "import datetime\n",
    "import time\n",
    "\n",
    "def main():\n",
    "\n",
    "    # set twitter api credentials\n",
    "    consumer_key= 'MOe623rxcqck6x8y5XhzK8MJT'\n",
    "    consumer_secret= 'mcBq9Km1f3OYERRD6vKmOfWSgCjsqzXAreIsn8klxAtPIo40E7'\n",
    "    access_token='913787859630460928-RXF8NVN3gGbxD64NCZ7wBma5M2WPwlv'\n",
    "    access_token_secret='P4UU9I2DimdnUown2EM6p4WZ0ftdPNsysDNW6xGh0Ts4f'\n",
    "\n",
    "    # set path of csv file to save sentiment stats\n",
    "    path = 'live_tweet.csv'\n",
    "    f = open(path,\"a\")\n",
    "    f1 = open('tweet_data','a')\n",
    "    # access twitter api via tweepy methods\n",
    "    auth = tweepy.OAuthHandler(consumer_key, consumer_secret)\n",
    "    auth.set_access_token(access_token, access_token_secret)\n",
    "    twitter_api = tweepy.API(auth)\n",
    "\n",
    "    while True:\n",
    "\n",
    "        # fetch tweets by keywords\n",
    "        tweets = twitter_api.search(q=['bitcoin, price, crypto'], count=100)\n",
    "\n",
    "        # get polarity\n",
    "        polarity = get_polarity(tweets,f1)\n",
    "        sentiment = np.mean(polarity)\n",
    "\n",
    "        # save sentiment data to csv file\n",
    "        f.write(str(sentiment))\n",
    "        f.write(\",\"+datetime.datetime.now().strftime(\"%y-%m-%d-%H-%M\"))\n",
    "        f.write(\"\\n\")\n",
    "        f.flush()\n",
    "        time.sleep(60)\n",
    "    \n",
    "\n",
    "def get_polarity(tweets,f):\n",
    "    # run polarity analysis on tweets\n",
    "\n",
    "    tweet_polarity = []\n",
    "\n",
    "    for tweet in tweets:\n",
    "        f.write(tweet.text+'\\n')\n",
    "        analysis = TextBlob(tweet.text)\n",
    "        tweet_polarity.append(analysis.sentiment.polarity)\n",
    "\n",
    "    return tweet_polarity\n",
    "\n",
    "main()"
   ]
  },
  {
   "cell_type": "code",
   "execution_count": null,
   "metadata": {},
   "outputs": [],
   "source": []
  }
 ],
 "metadata": {
  "kernelspec": {
   "display_name": "Python 3",
   "language": "python",
   "name": "python3"
  },
  "language_info": {
   "codemirror_mode": {
    "name": "ipython",
    "version": 3
   },
   "file_extension": ".py",
   "mimetype": "text/x-python",
   "name": "python",
   "nbconvert_exporter": "python",
   "pygments_lexer": "ipython3",
   "version": "3.6.5"
  }
 },
 "nbformat": 4,
 "nbformat_minor": 2
}
