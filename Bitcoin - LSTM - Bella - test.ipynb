{
 "cells": [
  {
   "cell_type": "markdown",
   "metadata": {},
   "source": [
    "### Import libraries"
   ]
  },
  {
   "cell_type": "code",
   "execution_count": 2,
   "metadata": {},
   "outputs": [
    {
     "name": "stderr",
     "output_type": "stream",
     "text": [
      "Using TensorFlow backend.\n"
     ]
    }
   ],
   "source": [
    "import requests, json\n",
    "import numpy as np\n",
    "import pandas as pd\n",
    "import matplotlib.pyplot as plt\n",
    "import pandas\n",
    "import math\n",
    "from keras.models import Sequential\n",
    "from keras.layers import Dense\n",
    "from keras.layers import LSTM, Dropout\n",
    "from sklearn.preprocessing import MinMaxScaler\n",
    "from sklearn.metrics import mean_squared_error"
   ]
  },
  {
   "cell_type": "markdown",
   "metadata": {},
   "source": [
    "### Set variables"
   ]
  },
  {
   "cell_type": "code",
   "execution_count": 3,
   "metadata": {},
   "outputs": [],
   "source": [
    "url = 'https://min-api.cryptocompare.com/data/histoday'\n",
    "res = requests.get(url + '?fsym=BTC&tsym=AUD&limit=2000')"
   ]
  },
  {
   "cell_type": "markdown",
   "metadata": {},
   "source": [
    "### Import data"
   ]
  },
  {
   "cell_type": "code",
   "execution_count": 4,
   "metadata": {},
   "outputs": [],
   "source": [
    "hist = pd.DataFrame(json.loads(res.content)['Data'])\n",
    "bitcoin = hist.set_index('time')\n",
    "bitcoin.index = pd.to_datetime(bitcoin.index, unit='s')\n",
    "bitcoin = bitcoin[bitcoin.index >='2018-01-01']"
   ]
  },
  {
   "cell_type": "code",
   "execution_count": 5,
   "metadata": {},
   "outputs": [
    {
     "data": {
      "text/html": [
       "<div>\n",
       "<style scoped>\n",
       "    .dataframe tbody tr th:only-of-type {\n",
       "        vertical-align: middle;\n",
       "    }\n",
       "\n",
       "    .dataframe tbody tr th {\n",
       "        vertical-align: top;\n",
       "    }\n",
       "\n",
       "    .dataframe thead th {\n",
       "        text-align: right;\n",
       "    }\n",
       "</style>\n",
       "<table border=\"1\" class=\"dataframe\">\n",
       "  <thead>\n",
       "    <tr style=\"text-align: right;\">\n",
       "      <th></th>\n",
       "      <th>close</th>\n",
       "      <th>high</th>\n",
       "      <th>low</th>\n",
       "      <th>open</th>\n",
       "      <th>volumefrom</th>\n",
       "      <th>volumeto</th>\n",
       "    </tr>\n",
       "    <tr>\n",
       "      <th>time</th>\n",
       "      <th></th>\n",
       "      <th></th>\n",
       "      <th></th>\n",
       "      <th></th>\n",
       "      <th></th>\n",
       "      <th></th>\n",
       "    </tr>\n",
       "  </thead>\n",
       "  <tbody>\n",
       "    <tr>\n",
       "      <th>2018-01-02</th>\n",
       "      <td>19826.75</td>\n",
       "      <td>20363.05</td>\n",
       "      <td>18313.80</td>\n",
       "      <td>18361.44</td>\n",
       "      <td>748.64</td>\n",
       "      <td>14290127.97</td>\n",
       "    </tr>\n",
       "    <tr>\n",
       "      <th>2018-01-03</th>\n",
       "      <td>21119.92</td>\n",
       "      <td>21277.03</td>\n",
       "      <td>19798.76</td>\n",
       "      <td>19826.75</td>\n",
       "      <td>744.14</td>\n",
       "      <td>15373658.57</td>\n",
       "    </tr>\n",
       "    <tr>\n",
       "      <th>2018-01-04</th>\n",
       "      <td>21145.63</td>\n",
       "      <td>21850.88</td>\n",
       "      <td>19986.66</td>\n",
       "      <td>21214.38</td>\n",
       "      <td>930.36</td>\n",
       "      <td>19490102.69</td>\n",
       "    </tr>\n",
       "    <tr>\n",
       "      <th>2018-01-05</th>\n",
       "      <td>22833.21</td>\n",
       "      <td>23763.15</td>\n",
       "      <td>20774.61</td>\n",
       "      <td>21019.23</td>\n",
       "      <td>1701.14</td>\n",
       "      <td>37650316.92</td>\n",
       "    </tr>\n",
       "    <tr>\n",
       "      <th>2018-01-06</th>\n",
       "      <td>22892.65</td>\n",
       "      <td>23491.77</td>\n",
       "      <td>21990.14</td>\n",
       "      <td>22833.21</td>\n",
       "      <td>1069.09</td>\n",
       "      <td>23896103.68</td>\n",
       "    </tr>\n",
       "    <tr>\n",
       "      <th>2018-01-07</th>\n",
       "      <td>22862.21</td>\n",
       "      <td>23473.61</td>\n",
       "      <td>21379.81</td>\n",
       "      <td>22844.09</td>\n",
       "      <td>3203.37</td>\n",
       "      <td>70848367.68</td>\n",
       "    </tr>\n",
       "    <tr>\n",
       "      <th>2018-01-08</th>\n",
       "      <td>21780.06</td>\n",
       "      <td>23152.18</td>\n",
       "      <td>20465.40</td>\n",
       "      <td>22862.21</td>\n",
       "      <td>1414.26</td>\n",
       "      <td>30874112.21</td>\n",
       "    </tr>\n",
       "    <tr>\n",
       "      <th>2018-01-09</th>\n",
       "      <td>20626.33</td>\n",
       "      <td>22983.93</td>\n",
       "      <td>20316.07</td>\n",
       "      <td>21780.06</td>\n",
       "      <td>1198.92</td>\n",
       "      <td>25779542.72</td>\n",
       "    </tr>\n",
       "    <tr>\n",
       "      <th>2018-01-10</th>\n",
       "      <td>20975.65</td>\n",
       "      <td>21329.40</td>\n",
       "      <td>20175.93</td>\n",
       "      <td>20634.05</td>\n",
       "      <td>1145.57</td>\n",
       "      <td>23656538.97</td>\n",
       "    </tr>\n",
       "  </tbody>\n",
       "</table>\n",
       "</div>"
      ],
      "text/plain": [
       "               close      high       low      open  volumefrom     volumeto\n",
       "time                                                                       \n",
       "2018-01-02  19826.75  20363.05  18313.80  18361.44      748.64  14290127.97\n",
       "2018-01-03  21119.92  21277.03  19798.76  19826.75      744.14  15373658.57\n",
       "2018-01-04  21145.63  21850.88  19986.66  21214.38      930.36  19490102.69\n",
       "2018-01-05  22833.21  23763.15  20774.61  21019.23     1701.14  37650316.92\n",
       "2018-01-06  22892.65  23491.77  21990.14  22833.21     1069.09  23896103.68\n",
       "2018-01-07  22862.21  23473.61  21379.81  22844.09     3203.37  70848367.68\n",
       "2018-01-08  21780.06  23152.18  20465.40  22862.21     1414.26  30874112.21\n",
       "2018-01-09  20626.33  22983.93  20316.07  21780.06     1198.92  25779542.72\n",
       "2018-01-10  20975.65  21329.40  20175.93  20634.05     1145.57  23656538.97"
      ]
     },
     "execution_count": 5,
     "metadata": {},
     "output_type": "execute_result"
    }
   ],
   "source": [
    "bitcoin[1:10]"
   ]
  },
  {
   "cell_type": "markdown",
   "metadata": {},
   "source": [
    "### Convert data to relevant format"
   ]
  },
  {
   "cell_type": "code",
   "execution_count": 6,
   "metadata": {},
   "outputs": [
    {
     "data": {
      "text/plain": [
       "(256, 1)"
      ]
     },
     "execution_count": 6,
     "metadata": {},
     "output_type": "execute_result"
    }
   ],
   "source": [
    "bitcoin_array = pd.DataFrame(bitcoin[\"close\"]).values\n",
    "bitcoin_array = bitcoin_array.astype(\"float64\")\n",
    "bitcoin_array.shape"
   ]
  },
  {
   "cell_type": "markdown",
   "metadata": {},
   "source": [
    "### Normalise bitcoin data"
   ]
  },
  {
   "cell_type": "code",
   "execution_count": 7,
   "metadata": {},
   "outputs": [
    {
     "data": {
      "text/plain": [
       "array([[0.79385845],\n",
       "       [0.88080717],\n",
       "       [0.88253583],\n",
       "       [0.99600344],\n",
       "       [1.        ],\n",
       "       [0.99795331],\n",
       "       [0.92519292],\n",
       "       [0.84761971],\n",
       "       [0.8711069 ]])"
      ]
     },
     "execution_count": 7,
     "metadata": {},
     "output_type": "execute_result"
    }
   ],
   "source": [
    "scaler = MinMaxScaler(feature_range=(0, 1))\n",
    "bitcoin_array = scaler.fit_transform(bitcoin_array)\n",
    "bitcoin_array[1:10]"
   ]
  },
  {
   "cell_type": "code",
   "execution_count": 8,
   "metadata": {},
   "outputs": [
    {
     "data": {
      "text/plain": [
       "256"
      ]
     },
     "execution_count": 8,
     "metadata": {},
     "output_type": "execute_result"
    }
   ],
   "source": [
    "len(bitcoin_array)"
   ]
  },
  {
   "cell_type": "markdown",
   "metadata": {},
   "source": [
    "### Create train and test set\n",
    "\n",
    "80% is used for training, 20% is used for testing."
   ]
  },
  {
   "cell_type": "markdown",
   "metadata": {},
   "source": [
    "<font color='red'>I think test data should not be 7. what do others think??? But it is time series, it can't be shuffled with 20% test and 80% train, but other people did use 20% or something too, so bit confused here. </font>"
   ]
  },
  {
   "cell_type": "code",
   "execution_count": 9,
   "metadata": {},
   "outputs": [
    {
     "name": "stdout",
     "output_type": "stream",
     "text": [
      "51 205\n"
     ]
    }
   ],
   "source": [
    "prop = 0.2\n",
    "test_threshold = round(len(bitcoin_array)*prop)\n",
    "max_threshold = round(len(bitcoin_array)*(1-prop))\n",
    "print (test_threshold,max_threshold)"
   ]
  },
  {
   "cell_type": "code",
   "execution_count": 10,
   "metadata": {},
   "outputs": [],
   "source": [
    "train = bitcoin_array[(len(bitcoin_array)-max_threshold-test_threshold):(len(bitcoin_array)-test_threshold)]\n",
    "test = bitcoin_array[(len(bitcoin_array)-test_threshold):]"
   ]
  },
  {
   "cell_type": "code",
   "execution_count": 11,
   "metadata": {},
   "outputs": [
    {
     "name": "stdout",
     "output_type": "stream",
     "text": [
      "(205, 1)\n",
      "(51, 1)\n"
     ]
    }
   ],
   "source": [
    "print (train.shape)\n",
    "print (test.shape)"
   ]
  },
  {
   "cell_type": "markdown",
   "metadata": {},
   "source": [
    "### Create window function\n",
    "\n",
    "Function creates arrays which look at previous `x` values.\n",
    "\n",
    "Note window can be updated."
   ]
  },
  {
   "cell_type": "code",
   "execution_count": 12,
   "metadata": {},
   "outputs": [],
   "source": [
    "def create_dataset(dataset, look_back=1):\n",
    "    dataX, dataY = [], []\n",
    "    for i in range(len(dataset)-look_back-1):\n",
    "        dataX.append(dataset[i:(i+look_back), 0])\n",
    "        dataY.append(dataset[i + look_back, 0])\n",
    "    return np.array(dataX), np.array(dataY)"
   ]
  },
  {
   "cell_type": "markdown",
   "metadata": {},
   "source": [
    "### look_back = 1"
   ]
  },
  {
   "cell_type": "code",
   "execution_count": 13,
   "metadata": {},
   "outputs": [],
   "source": [
    "look_back = 1\n",
    "trainX, trainY = create_dataset(train, look_back)\n",
    "testX, testY = create_dataset(test, look_back)"
   ]
  },
  {
   "cell_type": "code",
   "execution_count": 14,
   "metadata": {},
   "outputs": [
    {
     "name": "stdout",
     "output_type": "stream",
     "text": [
      "(203, 1) (49, 1)\n"
     ]
    }
   ],
   "source": [
    "print (trainX.shape, testX.shape)"
   ]
  },
  {
   "cell_type": "markdown",
   "metadata": {},
   "source": [
    "input_shape: 3D tensor with shape (batch_size, timesteps, input_dim)"
   ]
  },
  {
   "cell_type": "code",
   "execution_count": 15,
   "metadata": {},
   "outputs": [],
   "source": [
    "trainX = np.reshape(trainX, (trainX.shape[0], trainX.shape[1], 1))\n",
    "testX = np.reshape(testX, (testX.shape[0], testX.shape[1], 1))"
   ]
  },
  {
   "cell_type": "markdown",
   "metadata": {},
   "source": [
    "### Build LSTM model"
   ]
  },
  {
   "cell_type": "code",
   "execution_count": 16,
   "metadata": {},
   "outputs": [],
   "source": [
    "from keras.layers import Dropout"
   ]
  },
  {
   "cell_type": "code",
   "execution_count": 17,
   "metadata": {
    "scrolled": true
   },
   "outputs": [
    {
     "name": "stdout",
     "output_type": "stream",
     "text": [
      "Epoch 1/30\n",
      " - 1s - loss: 0.0797\n",
      "Epoch 2/30\n",
      " - 0s - loss: 0.0519\n",
      "Epoch 3/30\n",
      " - 0s - loss: 0.0365\n",
      "Epoch 4/30\n",
      " - 0s - loss: 0.0289\n",
      "Epoch 5/30\n",
      " - 0s - loss: 0.0237\n",
      "Epoch 6/30\n",
      " - 0s - loss: 0.0230\n",
      "Epoch 7/30\n",
      " - 0s - loss: 0.0229\n",
      "Epoch 8/30\n",
      " - 0s - loss: 0.0198\n",
      "Epoch 9/30\n",
      " - 0s - loss: 0.0178\n",
      "Epoch 10/30\n",
      " - 0s - loss: 0.0180\n",
      "Epoch 11/30\n",
      " - 0s - loss: 0.0137\n",
      "Epoch 12/30\n",
      " - 0s - loss: 0.0104\n",
      "Epoch 13/30\n",
      " - 0s - loss: 0.0114\n",
      "Epoch 14/30\n",
      " - 0s - loss: 0.0103\n",
      "Epoch 15/30\n",
      " - 0s - loss: 0.0097\n",
      "Epoch 16/30\n",
      " - 0s - loss: 0.0074\n",
      "Epoch 17/30\n",
      " - 0s - loss: 0.0062\n",
      "Epoch 18/30\n",
      " - 0s - loss: 0.0053\n",
      "Epoch 19/30\n",
      " - 0s - loss: 0.0046\n",
      "Epoch 20/30\n",
      " - 0s - loss: 0.0049\n",
      "Epoch 21/30\n",
      " - 0s - loss: 0.0034\n",
      "Epoch 22/30\n",
      " - 0s - loss: 0.0034\n",
      "Epoch 23/30\n",
      " - 0s - loss: 0.0039\n",
      "Epoch 24/30\n",
      " - 0s - loss: 0.0043\n",
      "Epoch 25/30\n",
      " - 0s - loss: 0.0030\n",
      "Epoch 26/30\n",
      " - 0s - loss: 0.0043\n",
      "Epoch 27/30\n",
      " - 0s - loss: 0.0031\n",
      "Epoch 28/30\n",
      " - 0s - loss: 0.0033\n",
      "Epoch 29/30\n",
      " - 0s - loss: 0.0031\n",
      "Epoch 30/30\n",
      " - 0s - loss: 0.0030\n"
     ]
    },
    {
     "data": {
      "text/plain": [
       "<keras.callbacks.History at 0x125f52080>"
      ]
     },
     "execution_count": 17,
     "metadata": {},
     "output_type": "execute_result"
    }
   ],
   "source": [
    "batch_size = 10\n",
    "lstm_model = Sequential()\n",
    "lstm_model.add(LSTM(32, input_shape=(1, 1)))\n",
    "lstm_model.add(Dropout(0.3))\n",
    "lstm_model.add(Dense(1))\n",
    "lstm_model.compile(loss=\"mean_squared_error\", optimizer=\"adam\")\n",
    "lstm_model.fit(trainX, trainY, epochs=30, batch_size=batch_size, verbose=2)"
   ]
  },
  {
   "cell_type": "code",
   "execution_count": 18,
   "metadata": {},
   "outputs": [
    {
     "name": "stdout",
     "output_type": "stream",
     "text": [
      "Train Score:  0.0021590410631088072\n",
      "Test Score:  0.00045000363811874305\n"
     ]
    }
   ],
   "source": [
    "trainScore = lstm_model.evaluate(trainX, trainY, batch_size=batch_size, verbose=0)\n",
    "print('Train Score: ', trainScore)\n",
    "testScore = lstm_model.evaluate(testX[:252], testY[:252], batch_size=batch_size, verbose=0)\n",
    "print('Test Score: ', testScore)"
   ]
  },
  {
   "cell_type": "markdown",
   "metadata": {},
   "source": [
    "bench mark: \n",
    "Train Score: 408.17 RMSE\n",
    "Test Score: 527.92 RMSE"
   ]
  },
  {
   "cell_type": "code",
   "execution_count": 19,
   "metadata": {},
   "outputs": [
    {
     "name": "stdout",
     "output_type": "stream",
     "text": [
      "Train Score: 691.07 RMSE\n",
      "Test Score: 315.50 RMSE\n"
     ]
    }
   ],
   "source": [
    "# Make predictions.\n",
    "trainPredict = lstm_model.predict(trainX)\n",
    "testPredict = lstm_model.predict(testX)\n",
    "\n",
    "# Invert predictions, transform back to equivalent bitcoin prices.\n",
    "trainPredict = scaler.inverse_transform(trainPredict)\n",
    "trainY = scaler.inverse_transform([trainY])\n",
    "testPredict = scaler.inverse_transform(testPredict)\n",
    "testY = scaler.inverse_transform([testY])\n",
    "\n",
    "# Calculate root mean squared error.\n",
    "trainScore = math.sqrt(mean_squared_error(trainY[0], trainPredict[:,0]))\n",
    "print('Train Score: %.2f RMSE' % (trainScore))\n",
    "testScore = math.sqrt(mean_squared_error(testY[0], testPredict[:,0]))\n",
    "print('Test Score: %.2f RMSE' % (testScore))"
   ]
  },
  {
   "cell_type": "code",
   "execution_count": 20,
   "metadata": {},
   "outputs": [
    {
     "data": {
      "image/png": "[encoded data removed]",
      "text/plain": [
       "<Figure size 1152x648 with 1 Axes>"
      ]
     },
     "metadata": {},
     "output_type": "display_data"
    }
   ],
   "source": [
    "# shift train predictions for plotting\n",
    "trainPredictPlot = np.empty_like(bitcoin_array)\n",
    "trainPredictPlot[:, :] = np.nan\n",
    "for i in range(0, len(trainPredict), 1):\n",
    "    trainPredictPlot[(len(bitcoin_array)-max_threshold-test_threshold)+i] = trainPredict[i]\n",
    "testPredictPlot = np.empty_like(bitcoin_array)\n",
    "testPredictPlot[:, :] = np.nan\n",
    "for i in range(0, len(testPredict), 1):\n",
    "    testPredictPlot[(len(bitcoin_array)-test_threshold)+i] = testPredict[i]\n",
    "\n",
    "# Revert back to relevant periods\n",
    "bitcoin_array_plot = bitcoin_array[(len(bitcoin_array)-max_threshold-test_threshold):len(bitcoin_array)]\n",
    "trainPredictPlot = trainPredictPlot[(len(trainPredictPlot)-max_threshold-test_threshold):]\n",
    "testPredictPlot = testPredictPlot[(len(testPredictPlot)-max_threshold-test_threshold):]\n",
    "plt.subplots(figsize=(16,9))\n",
    "plt.plot(scaler.inverse_transform(bitcoin_array_plot), label=\"Actual\")\n",
    "plt.plot(trainPredictPlot, label=\"Predict - Train\")\n",
    "plt.plot(testPredictPlot, label=\"Predict - Test\")\n",
    "plt.title(\"Bitcoin Actual vs Prediction\", fontsize=18); plt.xlabel(\"\"); plt.ylabel(\"Price (AUD)\")\n",
    "plt.legend(loc=\"upper right\")\n",
    "plt.show()"
   ]
  },
  {
   "cell_type": "markdown",
   "metadata": {},
   "source": [
    "We observe that **LSTM** follows the overall pattern of bitcoin prices quite well, albeit our root mean square error appears high. However as there is high volatility with large fluctuations in price, we can assume the model predicts quite well for future bitcoin prices.\n",
    "\n",
    "Model can be improved by changing the following parameters:\n",
    "\n",
    "* Update window function.\n",
    "* Increasing number of epochs.\n",
    "* Changing hidden layer structure.\n",
    "* For good predictive model the RMSE values should be <0.3."
   ]
  },
  {
   "cell_type": "markdown",
   "metadata": {},
   "source": [
    "#### Stacked LSTM model with window size 30\n",
    "\n",
    "Test model above with window of size 30."
   ]
  },
  {
   "cell_type": "code",
   "execution_count": 21,
   "metadata": {
    "scrolled": true
   },
   "outputs": [
    {
     "name": "stdout",
     "output_type": "stream",
     "text": [
      "(194, 10) (40, 10)\n",
      "(194, 10, 1) (40, 10, 1)\n"
     ]
    }
   ],
   "source": [
    "# Define window.\n",
    "look_back = 10\n",
    "trainX, trainY = create_dataset(train, look_back)\n",
    "testX, testY = create_dataset(test, look_back)\n",
    "print (trainX.shape, testX.shape)\n",
    "trainX = np.reshape(trainX, (trainX.shape[0], trainX.shape[1], 1))\n",
    "testX = np.reshape(testX, (testX.shape[0], testX.shape[1], 1))\n",
    "print (trainX.shape, testX.shape)"
   ]
  },
  {
   "cell_type": "code",
   "execution_count": 22,
   "metadata": {},
   "outputs": [
    {
     "name": "stderr",
     "output_type": "stream",
     "text": [
      "/Users/libaisun/virtual/lib/python3.6/site-packages/ipykernel_launcher.py:3: UserWarning: The `input_dim` and `input_length` arguments in recurrent layers are deprecated. Use `input_shape` instead.\n",
      "  This is separate from the ipykernel package so we can avoid doing imports until\n",
      "/Users/libaisun/virtual/lib/python3.6/site-packages/ipykernel_launcher.py:3: UserWarning: Update your `LSTM` call to the Keras 2 API: `LSTM(32, input_shape=(None, 1))`\n",
      "  This is separate from the ipykernel package so we can avoid doing imports until\n",
      "/Users/libaisun/virtual/lib/python3.6/site-packages/ipykernel_launcher.py:7: UserWarning: The `nb_epoch` argument in `fit` has been renamed `epochs`.\n",
      "  import sys\n"
     ]
    },
    {
     "name": "stdout",
     "output_type": "stream",
     "text": [
      "Epoch 1/30\n",
      " - 4s - loss: 0.0139\n",
      "Epoch 2/30\n",
      " - 2s - loss: 0.0068\n",
      "Epoch 3/30\n",
      " - 2s - loss: 0.0045\n",
      "Epoch 4/30\n",
      " - 2s - loss: 0.0053\n",
      "Epoch 5/30\n",
      " - 3s - loss: 0.0042\n",
      "Epoch 6/30\n",
      " - 3s - loss: 0.0048\n",
      "Epoch 7/30\n",
      " - 3s - loss: 0.0051\n",
      "Epoch 8/30\n",
      " - 2s - loss: 0.0041\n",
      "Epoch 9/30\n",
      " - 3s - loss: 0.0044\n",
      "Epoch 10/30\n",
      " - 2s - loss: 0.0036\n",
      "Epoch 11/30\n",
      " - 3s - loss: 0.0043\n",
      "Epoch 12/30\n",
      " - 3s - loss: 0.0036\n",
      "Epoch 13/30\n",
      " - 3s - loss: 0.0039\n",
      "Epoch 14/30\n",
      " - 3s - loss: 0.0034\n",
      "Epoch 15/30\n",
      " - 2s - loss: 0.0038\n",
      "Epoch 16/30\n",
      " - 2s - loss: 0.0032\n",
      "Epoch 17/30\n",
      " - 3s - loss: 0.0037\n",
      "Epoch 18/30\n",
      " - 2s - loss: 0.0033\n",
      "Epoch 19/30\n",
      " - 2s - loss: 0.0034\n",
      "Epoch 20/30\n",
      " - 2s - loss: 0.0034\n",
      "Epoch 21/30\n",
      " - 2s - loss: 0.0034\n",
      "Epoch 22/30\n",
      " - 2s - loss: 0.0030\n",
      "Epoch 23/30\n",
      " - 2s - loss: 0.0029\n",
      "Epoch 24/30\n",
      " - 2s - loss: 0.0037\n",
      "Epoch 25/30\n",
      " - 2s - loss: 0.0028\n",
      "Epoch 26/30\n",
      " - 2s - loss: 0.0028\n",
      "Epoch 27/30\n",
      " - 2s - loss: 0.0034\n",
      "Epoch 28/30\n",
      " - 2s - loss: 0.0022\n",
      "Epoch 29/30\n",
      " - 2s - loss: 0.0037\n",
      "Epoch 30/30\n",
      " - 2s - loss: 0.0023\n"
     ]
    },
    {
     "data": {
      "text/plain": [
       "<keras.callbacks.History at 0x126d3f978>"
      ]
     },
     "execution_count": 22,
     "metadata": {},
     "output_type": "execute_result"
    }
   ],
   "source": [
    "batch_size = 1\n",
    "model = Sequential()\n",
    "model.add(LSTM(32,input_dim=1))\n",
    "model.add(Dropout(0.3))\n",
    "model.add(Dense(1))\n",
    "model.compile(loss='mean_squared_error', optimizer='adam')\n",
    "model.fit(trainX, trainY, nb_epoch=30, batch_size=batch_size, verbose=2)"
   ]
  },
  {
   "cell_type": "code",
   "execution_count": 24,
   "metadata": {},
   "outputs": [
    {
     "name": "stdout",
     "output_type": "stream",
     "text": [
      "Train Score: 678.82 RMSE\n",
      "Test Score: 303.00 RMSE\n"
     ]
    }
   ],
   "source": [
    "# Make predictions.\n",
    "trainPredict = model.predict(trainX)\n",
    "testPredict = model.predict(testX)\n",
    "\n",
    "# Invert predictions, transform back to equivalent bitcoin prices.\n",
    "trainPredict = scaler.inverse_transform(trainPredict)\n",
    "trainY = scaler.inverse_transform([trainY])\n",
    "testPredict = scaler.inverse_transform(testPredict)\n",
    "testY = scaler.inverse_transform([testY])\n",
    "\n",
    "# Calculate root mean squared error.\n",
    "trainScore = math.sqrt(mean_squared_error(trainY[0], trainPredict[:,0]))\n",
    "print('Train Score: %.2f RMSE' % (trainScore))\n",
    "testScore = math.sqrt(mean_squared_error(testY[0], testPredict[:,0]))\n",
    "print('Test Score: %.2f RMSE' % (testScore))"
   ]
  },
  {
   "cell_type": "code",
   "execution_count": 25,
   "metadata": {},
   "outputs": [
    {
     "data": {
      "image/png": "[encoded data removed]",
      "text/plain": [
       "<Figure size 1152x648 with 1 Axes>"
      ]
     },
     "metadata": {},
     "output_type": "display_data"
    }
   ],
   "source": [
    "# shift train predictions for plotting\n",
    "trainPredictPlot = np.empty_like(bitcoin_array)\n",
    "trainPredictPlot[:, :] = np.nan\n",
    "for i in range(0, len(trainPredict), 1):\n",
    "    trainPredictPlot[(len(bitcoin_array)-max_threshold-test_threshold)+i] = trainPredict[i]\n",
    "testPredictPlot = np.empty_like(bitcoin_array)\n",
    "testPredictPlot[:, :] = np.nan\n",
    "for i in range(0, len(testPredict), 1):\n",
    "    testPredictPlot[(len(bitcoin_array)-test_threshold)+i] = testPredict[i]\n",
    "\n",
    "# Revert back to relevant periods\n",
    "bitcoin_array_plot = bitcoin_array[(len(bitcoin_array)-max_threshold-test_threshold):len(bitcoin_array)]\n",
    "trainPredictPlot = trainPredictPlot[(len(trainPredictPlot)-max_threshold-test_threshold):]\n",
    "testPredictPlot = testPredictPlot[(len(testPredictPlot)-max_threshold-test_threshold):]\n",
    "plt.subplots(figsize=(16,9))\n",
    "plt.plot(scaler.inverse_transform(bitcoin_array_plot), label=\"Actual\")\n",
    "plt.plot(trainPredictPlot, label=\"Predict - Train\")\n",
    "plt.plot(testPredictPlot, label=\"Predict - Test\")\n",
    "plt.title(\"Bitcoin Actual vs Prediction (Window size 30)\", fontsize=18); plt.xlabel(\"\"); plt.ylabel(\"Price (AUD)\")\n",
    "plt.legend(loc=\"upper right\")\n",
    "plt.show()"
   ]
  },
  {
   "cell_type": "markdown",
   "metadata": {},
   "source": [
    "We observe that increasing the window creates a smoother function and is more realistic for understanding the overall volatility trends.\n",
    "\n",
    "Note that the root mean square error is **higher** with larger window compared to a lower window.\n",
    "\n",
    "It seems the prediction is just the value shifted back look_back days, and there is a gap between them."
   ]
  },
  {
   "cell_type": "markdown",
   "metadata": {},
   "source": [
    "# Stateful 2_layer LSTMs"
   ]
  },
  {
   "cell_type": "code",
   "execution_count": 28,
   "metadata": {},
   "outputs": [],
   "source": [
    "import theano"
   ]
  },
  {
   "cell_type": "markdown",
   "metadata": {},
   "source": [
    "https://www.youtube.com/watch?v=ywinX5wgdEU&lc=z232xtlxsxafcrgldacdp432thqwrab22ki2fx4m40pw03c010c.1536797127181524\n",
    "\n",
    "The reason I do loop = 200 instead of epochs=200 is so that I can reset the states before moving on to the next epoch. Otherwise it will pass on the cell states from the last time step to the last one. Hope this helps.\n",
    "\n",
    "** though I'm still not fully understood.**"
   ]
  },
  {
   "cell_type": "code",
   "execution_count": 40,
   "metadata": {},
   "outputs": [
    {
     "name": "stdout",
     "output_type": "stream",
     "text": [
      "CPU times: user 483 ms, sys: 13.4 ms, total: 496 ms\n",
      "Wall time: 501 ms\n"
     ]
    },
    {
     "name": "stderr",
     "output_type": "stream",
     "text": [
      "/Users/libaisun/virtual/lib/python3.6/site-packages/ipykernel_launcher.py:11: UserWarning: Update your `Dense` call to the Keras 2 API: `Dense(activation=\"linear\", units=1)`\n",
      "  # This is added back by InteractiveShellApp.init_path()\n"
     ]
    }
   ],
   "source": [
    "%%time\n",
    "theano.config.compute_test_value = \"ignore\"\n",
    "# create and fit the LSTM network\n",
    "batch_size = 1\n",
    "model = Sequential()\n",
    "model.add(LSTM(32, batch_input_shape=(batch_size, look_back, 1), stateful=True, return_sequences=True))\n",
    "model.add(Dropout(0.3))\n",
    "model.add(LSTM(32, batch_input_shape=(batch_size, look_back, 1), stateful=True))\n",
    "model.add(Dropout(0.3))\n",
    "model.add(Dense(194,activation='relu'))\n",
    "model.add(Dropout(0.3))\n",
    "model.add(Dense(output_dim = 1,activation='linear'))"
   ]
  },
  {
   "cell_type": "code",
   "execution_count": 41,
   "metadata": {},
   "outputs": [
    {
     "name": "stderr",
     "output_type": "stream",
     "text": [
      "/Users/libaisun/virtual/lib/python3.6/site-packages/ipykernel_launcher.py:3: UserWarning: The `nb_epoch` argument in `fit` has been renamed `epochs`.\n",
      "  This is separate from the ipykernel package so we can avoid doing imports until\n"
     ]
    },
    {
     "ename": "ValueError",
     "evalue": "Error when checking target: expected dense_12 to have shape (1,) but got array with shape (194,)",
     "output_type": "error",
     "traceback": [
      "\u001b[0;31m---------------------------------------------------------------------------\u001b[0m",
      "\u001b[0;31mValueError\u001b[0m                                Traceback (most recent call last)",
      "\u001b[0;32m<ipython-input-41-f27e54384a76>\u001b[0m in \u001b[0;36m<module>\u001b[0;34m()\u001b[0m\n\u001b[1;32m      1\u001b[0m \u001b[0mmodel\u001b[0m\u001b[0;34m.\u001b[0m\u001b[0mcompile\u001b[0m\u001b[0;34m(\u001b[0m\u001b[0mloss\u001b[0m\u001b[0;34m=\u001b[0m\u001b[0;34m'mean_squared_error'\u001b[0m\u001b[0;34m,\u001b[0m \u001b[0moptimizer\u001b[0m\u001b[0;34m=\u001b[0m\u001b[0;34m'adam'\u001b[0m\u001b[0;34m)\u001b[0m\u001b[0;34m\u001b[0m\u001b[0m\n\u001b[1;32m      2\u001b[0m \u001b[0;32mfor\u001b[0m \u001b[0mi\u001b[0m \u001b[0;32min\u001b[0m \u001b[0mrange\u001b[0m\u001b[0;34m(\u001b[0m\u001b[0;36m200\u001b[0m\u001b[0;34m)\u001b[0m\u001b[0;34m:\u001b[0m\u001b[0;34m\u001b[0m\u001b[0m\n\u001b[0;32m----> 3\u001b[0;31m     \u001b[0mmodel\u001b[0m\u001b[0;34m.\u001b[0m\u001b[0mfit\u001b[0m\u001b[0;34m(\u001b[0m\u001b[0mtrainX\u001b[0m\u001b[0;34m,\u001b[0m \u001b[0mtrainY\u001b[0m\u001b[0;34m,\u001b[0m \u001b[0mnb_epoch\u001b[0m\u001b[0;34m=\u001b[0m\u001b[0;36m10\u001b[0m\u001b[0;34m,\u001b[0m \u001b[0mbatch_size\u001b[0m\u001b[0;34m=\u001b[0m\u001b[0mbatch_size\u001b[0m\u001b[0;34m,\u001b[0m \u001b[0mverbose\u001b[0m\u001b[0;34m=\u001b[0m\u001b[0;36m2\u001b[0m\u001b[0;34m,\u001b[0m \u001b[0mshuffle\u001b[0m\u001b[0;34m=\u001b[0m\u001b[0;32mFalse\u001b[0m\u001b[0;34m)\u001b[0m\u001b[0;34m\u001b[0m\u001b[0m\n\u001b[0m\u001b[1;32m      4\u001b[0m     \u001b[0mmodel\u001b[0m\u001b[0;34m.\u001b[0m\u001b[0mreset_states\u001b[0m\u001b[0;34m(\u001b[0m\u001b[0;34m)\u001b[0m\u001b[0;34m\u001b[0m\u001b[0m\n",
      "\u001b[0;32m~/virtual/lib/python3.6/site-packages/keras/engine/training.py\u001b[0m in \u001b[0;36mfit\u001b[0;34m(self, x, y, batch_size, epochs, verbose, callbacks, validation_split, validation_data, shuffle, class_weight, sample_weight, initial_epoch, steps_per_epoch, validation_steps, **kwargs)\u001b[0m\n\u001b[1;32m    948\u001b[0m             \u001b[0msample_weight\u001b[0m\u001b[0;34m=\u001b[0m\u001b[0msample_weight\u001b[0m\u001b[0;34m,\u001b[0m\u001b[0;34m\u001b[0m\u001b[0m\n\u001b[1;32m    949\u001b[0m             \u001b[0mclass_weight\u001b[0m\u001b[0;34m=\u001b[0m\u001b[0mclass_weight\u001b[0m\u001b[0;34m,\u001b[0m\u001b[0;34m\u001b[0m\u001b[0m\n\u001b[0;32m--> 950\u001b[0;31m             batch_size=batch_size)\n\u001b[0m\u001b[1;32m    951\u001b[0m         \u001b[0;31m# Prepare validation data.\u001b[0m\u001b[0;34m\u001b[0m\u001b[0;34m\u001b[0m\u001b[0m\n\u001b[1;32m    952\u001b[0m         \u001b[0mdo_validation\u001b[0m \u001b[0;34m=\u001b[0m \u001b[0;32mFalse\u001b[0m\u001b[0;34m\u001b[0m\u001b[0m\n",
      "\u001b[0;32m~/virtual/lib/python3.6/site-packages/keras/engine/training.py\u001b[0m in \u001b[0;36m_standardize_user_data\u001b[0;34m(self, x, y, sample_weight, class_weight, check_array_lengths, batch_size)\u001b[0m\n\u001b[1;32m    785\u001b[0m                 \u001b[0mfeed_output_shapes\u001b[0m\u001b[0;34m,\u001b[0m\u001b[0;34m\u001b[0m\u001b[0m\n\u001b[1;32m    786\u001b[0m                 \u001b[0mcheck_batch_axis\u001b[0m\u001b[0;34m=\u001b[0m\u001b[0;32mFalse\u001b[0m\u001b[0;34m,\u001b[0m  \u001b[0;31m# Don't enforce the batch size.\u001b[0m\u001b[0;34m\u001b[0m\u001b[0m\n\u001b[0;32m--> 787\u001b[0;31m                 exception_prefix='target')\n\u001b[0m\u001b[1;32m    788\u001b[0m \u001b[0;34m\u001b[0m\u001b[0m\n\u001b[1;32m    789\u001b[0m             \u001b[0;31m# Generate sample-wise weight values given the `sample_weight` and\u001b[0m\u001b[0;34m\u001b[0m\u001b[0;34m\u001b[0m\u001b[0m\n",
      "\u001b[0;32m~/virtual/lib/python3.6/site-packages/keras/engine/training_utils.py\u001b[0m in \u001b[0;36mstandardize_input_data\u001b[0;34m(data, names, shapes, check_batch_axis, exception_prefix)\u001b[0m\n\u001b[1;32m    135\u001b[0m                             \u001b[0;34m': expected '\u001b[0m \u001b[0;34m+\u001b[0m \u001b[0mnames\u001b[0m\u001b[0;34m[\u001b[0m\u001b[0mi\u001b[0m\u001b[0;34m]\u001b[0m \u001b[0;34m+\u001b[0m \u001b[0;34m' to have shape '\u001b[0m \u001b[0;34m+\u001b[0m\u001b[0;34m\u001b[0m\u001b[0m\n\u001b[1;32m    136\u001b[0m                             \u001b[0mstr\u001b[0m\u001b[0;34m(\u001b[0m\u001b[0mshape\u001b[0m\u001b[0;34m)\u001b[0m \u001b[0;34m+\u001b[0m \u001b[0;34m' but got array with shape '\u001b[0m \u001b[0;34m+\u001b[0m\u001b[0;34m\u001b[0m\u001b[0m\n\u001b[0;32m--> 137\u001b[0;31m                             str(data_shape))\n\u001b[0m\u001b[1;32m    138\u001b[0m     \u001b[0;32mreturn\u001b[0m \u001b[0mdata\u001b[0m\u001b[0;34m\u001b[0m\u001b[0m\n\u001b[1;32m    139\u001b[0m \u001b[0;34m\u001b[0m\u001b[0m\n",
      "\u001b[0;31mValueError\u001b[0m: Error when checking target: expected dense_12 to have shape (1,) but got array with shape (194,)"
     ]
    }
   ],
   "source": [
    "model.compile(loss='mean_squared_error', optimizer='adam')\n",
    "for i in range(200):\n",
    "    model.fit(trainX, trainY, nb_epoch=10, batch_size=batch_size, verbose=2, shuffle=False)\n",
    "    model.reset_states()"
   ]
  },
  {
   "cell_type": "code",
   "execution_count": null,
   "metadata": {},
   "outputs": [],
   "source": []
  },
  {
   "cell_type": "code",
   "execution_count": null,
   "metadata": {},
   "outputs": [],
   "source": []
  },
  {
   "cell_type": "code",
   "execution_count": null,
   "metadata": {},
   "outputs": [],
   "source": []
  },
  {
   "cell_type": "markdown",
   "metadata": {},
   "source": [
    "#### Reference:"
   ]
  },
  {
   "cell_type": "markdown",
   "metadata": {},
   "source": [
    "https://github.com/sachinruk/PyData_Keras_Talk/blob/master/cosine_LSTM.ipynb"
   ]
  },
  {
   "cell_type": "code",
   "execution_count": null,
   "metadata": {},
   "outputs": [],
   "source": []
  }
 ],
 "metadata": {
  "kernelspec": {
   "display_name": "Python 3",
   "language": "python",
   "name": "python3"
  },
  "language_info": {
   "codemirror_mode": {
    "name": "ipython",
    "version": 3
   },
   "file_extension": ".py",
   "mimetype": "text/x-python",
   "name": "python",
   "nbconvert_exporter": "python",
   "pygments_lexer": "ipython3",
   "version": "3.6.5"
  }
 },
 "nbformat": 4,
 "nbformat_minor": 2
}
