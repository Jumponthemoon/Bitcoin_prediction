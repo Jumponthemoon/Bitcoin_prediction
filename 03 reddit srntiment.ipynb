{
 "cells": [
  {
   "cell_type": "code",
   "execution_count": 9,
   "metadata": {},
   "outputs": [],
   "source": [
    "from pprint import pprint\n",
    "import requests, json\n",
    "import selenium\n",
    "from selenium import webdriver\n",
    "from selenium.webdriver.common.by import By\n",
    "from selenium.webdriver.support.ui import WebDriverWait\n",
    "from selenium.webdriver.support import expected_conditions as EC\n",
    "import time\n",
    "import datetime"
   ]
  },
  {
   "cell_type": "markdown",
   "metadata": {},
   "source": [
    "Format\n",
    "\n",
    "{\"importance\": 0-10, \"sentiment\": positive/negative/neutral, \"score\":0-1}"
   ]
  },
  {
   "cell_type": "code",
   "execution_count": 10,
   "metadata": {},
   "outputs": [],
   "source": [
    "def get_sentiment(year, month, day):\n",
    "    month_string = str(month)\n",
    "    if len(month_string) < 2:\n",
    "        month_string = \"0\" + month_string\n",
    "    day_string = str(day)\n",
    "    if len(day_string) < 2:\n",
    "        day_string = \"0\" + day_string\n",
    "    date = str(year) + month_string + day_string\n",
    "\n",
    "    # e.g. http://archive.org/wayback/available?url=reddit.com/r/bitcoin&timestamp=20180802\n",
    "    # will get: url: http://web.archive.org/web/20180802015938/https://www.reddit.com/r/Bitcoin/\n",
    "    r1 = requests.get(\"http://archive.org/wayback/available?url=reddit.com/r/bitcoin&timestamp=\" + date)\n",
    "\n",
    "    if(r1.status_code == 200):\n",
    "        data1 = json.loads(r1.text)\n",
    "        archive_url = data1['archived_snapshots']['closest']['url']\n",
    "    else:\n",
    "        archive_url = None\n",
    "        print(\"Error return code = \"+str(r1.status_code))\n",
    "        \n",
    "    # will get topic, score, original text, normalized text and so on. will get positive or negative sentiment \n",
    "    r2 = requests.get(\"http://api.idolondemand.com/1/api/sync/analyzesentiment/v1?apikey=fe6dea49-084f-4cd8-be86-0976baf9a714&url=\" + archive_url)\n",
    "\n",
    "    if(r2.status_code == 200):\n",
    "        data2 = json.loads(r2.text)\n",
    "        return data2['aggregate']['score']\n",
    "    else:\n",
    "        print(\"Error return code = \"+str(r2.status_code))\n"
   ]
  },
  {
   "cell_type": "code",
   "execution_count": 11,
   "metadata": {},
   "outputs": [],
   "source": [
    "def make_dict():\n",
    "    scores = {}\n",
    "    date = datetime.date(2018, 1, 1)\n",
    "    target = open('sentiment.txt', 'w')\n",
    "    for i in range(643):\n",
    "        stamp = date.year*10000+date.month*100+date.day\n",
    "        value = get_sentiment(date.year, date.month, date.day)\n",
    "        scores[(date.year, date.month, date.day)] = value\n",
    "        date -= datetime.timedelta(days=1)\n",
    "        target.write(str(stamp)+','+str(value))\n",
    "        target.write('\\n')\n",
    "    target.close()"
   ]
  },
  {
   "cell_type": "code",
   "execution_count": 12,
   "metadata": {},
   "outputs": [
    {
     "name": "stdout",
     "output_type": "stream",
     "text": [
      "Error return code = 400\n",
      "Error return code = 400\n",
      "Error return code = 400\n",
      "Error return code = 400\n",
      "Error return code = 400\n",
      "Error return code = 400\n"
     ]
    }
   ],
   "source": [
    "make_dict()"
   ]
  },
  {
   "cell_type": "code",
   "execution_count": null,
   "metadata": {},
   "outputs": [],
   "source": []
  }
 ],
 "metadata": {
  "kernelspec": {
   "display_name": "Python 3",
   "language": "python",
   "name": "python3"
  },
  "language_info": {
   "codemirror_mode": {
    "name": "ipython",
    "version": 3
   },
   "file_extension": ".py",
   "mimetype": "text/x-python",
   "name": "python",
   "nbconvert_exporter": "python",
   "pygments_lexer": "ipython3",
   "version": "3.6.5"
  }
 },
 "nbformat": 4,
 "nbformat_minor": 2
}
